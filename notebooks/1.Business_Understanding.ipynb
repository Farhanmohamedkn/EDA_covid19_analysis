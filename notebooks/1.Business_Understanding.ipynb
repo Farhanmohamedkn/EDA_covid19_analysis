{
 "cells": [
  {
   "cell_type": "code",
   "execution_count": 1,
   "metadata": {},
   "outputs": [
    {
     "name": "stdout",
     "output_type": "stream",
     "text": [
      " Volume in drive C is Windows\n",
      " Volume Serial Number is 0037-5E60\n",
      "\n",
      " Directory of C:\\Users\\MOHAMED FARHAN KN\\Desktop\\EnterpriseDataScience\\EDS rohan\\EDS\\covid19_analysis\\notebooks\n",
      "\n",
      "12/11/2022  17:01    <DIR>          .\n",
      "12/11/2022  17:01    <DIR>          ..\n",
      "27/06/2022  16:51                 0 .gitkeep\n",
      "12/11/2022  16:21    <DIR>          .ipynb_checkpoints\n",
      "12/11/2022  17:01             2.913 1.Business_Understanding.ipynb\n",
      "12/11/2022  17:01            24.894 2. Data Understanding.ipynb\n",
      "27/06/2022  22:54            95.087 3. Data_Preparation.ipynb\n",
      "29/07/2022  21:56           209.726 4. Data_Understanding_EDA.ipynb\n",
      "29/06/2022  18:35                 0 5. Business_Understanding.ipynb\n",
      "12/11/2022  16:21           509.842 CVT_DataScience.ipynb\n",
      "29/06/2022  18:18         4.898.064 EDS.ipynb\n",
      "29/07/2022  21:56            17.174 Evaluation_Walk_through.ipynb\n",
      "29/07/2022  21:56            11.610 SIR_dynamic4.ipynb\n",
      "              10 File(s)      5.769.310 bytes\n",
      "               3 Dir(s)  89.674.244.096 bytes free\n"
     ]
    }
   ],
   "source": [
    "!dir"
   ]
  },
  {
   "cell_type": "markdown",
   "metadata": {},
   "source": [
    "![CRISP_DM.png](../reports/figures/CRISP_DM.png)"
   ]
  },
  {
   "cell_type": "markdown",
   "metadata": {},
   "source": [
    "# Business Understanding"
   ]
  },
  {
   "cell_type": "markdown",
   "metadata": {},
   "source": [
    "I would like to track Corona VIRUS spread across countries along with personal local information.\n",
    "\n",
    "The general information is not so relevant in my opinion, and I would like to have a deeper understanding of the local development of the spread.\n"
   ]
  },
  {
   "cell_type": "markdown",
   "metadata": {},
   "source": []
  },
  {
   "cell_type": "code",
   "execution_count": null,
   "metadata": {},
   "outputs": [],
   "source": []
  },
  {
   "cell_type": "code",
   "execution_count": null,
   "metadata": {},
   "outputs": [],
   "source": []
  }
 ],
 "metadata": {
  "kernelspec": {
   "display_name": "Python 3 (ipykernel)",
   "language": "python",
   "name": "python3"
  },
  "language_info": {
   "codemirror_mode": {
    "name": "ipython",
    "version": 3
   },
   "file_extension": ".py",
   "mimetype": "text/x-python",
   "name": "python",
   "nbconvert_exporter": "python",
   "pygments_lexer": "ipython3",
   "version": "3.9.13"
  },
  "vscode": {
   "interpreter": {
    "hash": "c700f411ef1946b5b951dcc0c11c198e567963616c8ea1722710f03dfdbd4b40"
   }
  }
 },
 "nbformat": 4,
 "nbformat_minor": 2
}
